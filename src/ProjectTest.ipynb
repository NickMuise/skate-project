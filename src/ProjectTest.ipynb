{
 "cells": [
  {
   "cell_type": "code",
   "execution_count": 2,
   "metadata": {},
   "outputs": [
    {
     "name": "stdout",
     "output_type": "stream",
     "text": [
      "Nike SB | Nyjah | 'Til Death\n",
      "00:11:07\n",
      "None\n",
      "nikeskateboarding\n",
      "667\n",
      "[u'Nike SB', u'Nike Skateboarding', u'Nike', u'Skateboarding', u'Nyjah', u'Nyjah Huston', u'skate', u'nyjah free', u'get buck']\n",
      "http://i.ytimg.com/vi/XBgbBrxj2to/default.jpg\n",
      "XBgbBrxj2to\n",
      "5070417\n"
     ]
    }
   ],
   "source": [
    "import cv2\n",
    "import numpy as np\n",
    "import pafy\n",
    "\n",
    "url = \"https://www.youtube.com/watch?v=XBgbBrxj2to\"\n",
    "v = pafy.new(url)\n",
    "play = v.getbest(preftype=\"webm\")\n",
    "\n",
    "print(v.title)\n",
    "print(v.duration)\n",
    "print(v.rating)\n",
    "print(v.author)\n",
    "print(v.length)\n",
    "print(v.keywords)\n",
    "print(v.thumb)\n",
    "print(v.videoid)\n",
    "print(v.viewcount)\n",
    "\n",
    "cap = cv2.VideoCapture(play.url) \n",
    "\n",
    "while(True):\n",
    "        \n",
    "    #Edge Detection Version\n",
    "    ret, frame = cap.read()\n",
    "    vid = cv2.cvtColor(frame, cv2.COLOR_BGR2GRAY)\n",
    "    ret,th = cv2.threshold(vid,100,200,cv2.THRESH_BINARY)\n",
    "    edges = cv2.Canny(th,100,200)\n",
    "    cv2.imshow('frame',edges)\n",
    "    if cv2.waitKey(30) & 0xFF == ord('q'):\n",
    "        break\n",
    "    \n",
    "    #Normal Version\n",
    "    #ret, frame = cap.read()\n",
    "    #gray = cv2.cvtColor(frame, cv2.COLOR_BGR2HSV)\n",
    "    #cv2.imshow('frame',gray)\n",
    "    #if cv2.waitKey(1) & 0xFF == ord('q'):\n",
    "    #   break\n",
    "\n",
    "cap.release()\n",
    "cv2.destroyAllWindows()\n",
    "\n"
   ]
  },
  {
   "cell_type": "code",
   "execution_count": null,
   "metadata": {},
   "outputs": [],
   "source": []
  }
 ],
 "metadata": {
  "kernelspec": {
   "display_name": "Python 2",
   "language": "python",
   "name": "python2"
  },
  "language_info": {
   "codemirror_mode": {
    "name": "ipython",
    "version": 2
   },
   "file_extension": ".py",
   "mimetype": "text/x-python",
   "name": "python",
   "nbconvert_exporter": "python",
   "pygments_lexer": "ipython2",
   "version": "2.7.15"
  }
 },
 "nbformat": 4,
 "nbformat_minor": 2
}
